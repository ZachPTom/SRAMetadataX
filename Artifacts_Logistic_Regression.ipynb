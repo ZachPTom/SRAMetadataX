{
 "cells": [
  {
   "cell_type": "code",
   "execution_count": 2,
   "metadata": {},
   "outputs": [],
   "source": [
    "import os\n",
    "import pandas as pd\n",
    "import numpy as np\n",
    "from sklearn import preprocessing\n",
    "from category_encoders import TargetEncoder\n",
    "import matplotlib.pyplot as plt \n",
    "plt.rc(\"font\", size=14)\n",
    "from sklearn.linear_model import LogisticRegression\n",
    "from sklearn.model_selection import train_test_split\n",
    "import seaborn as sns\n",
    "sns.set(style=\"white\")\n",
    "sns.set(style=\"whitegrid\", color_codes=True)"
   ]
  },
  {
   "cell_type": "markdown",
   "metadata": {},
   "source": [
    "## Data Pre-processing\n",
    "\n",
    "The data consists of the artifactual variant calls that differ from the GIAB high confidence calls produced by the NGS pipeline.\n",
    "\n",
    "Below define a dictionary of your XRR accessions and their associated class. Here, 0 = hybrid capture, and 1 = PCR"
   ]
  },
  {
   "cell_type": "code",
   "execution_count": 3,
   "metadata": {},
   "outputs": [],
   "source": [
    "srx_dict = {'ERR1831349': 0, 'ERR1905889': 0, 'ERR1905890': 0, 'ERR1831350': 0, \n",
    "            'ERR032972': 1, 'SRR1620964': 1, 'ERR1679737': 1, 'ERR032971': 1}"
   ]
  },
  {
   "cell_type": "markdown",
   "metadata": {},
   "source": [
    "Import each tab_delimited artifacts file as a dataframe and add the associated class as a column. Append all dataframes together."
   ]
  },
  {
   "cell_type": "code",
   "execution_count": 4,
   "metadata": {
    "scrolled": false
   },
   "outputs": [
    {
     "name": "stdout",
     "output_type": "stream",
     "text": [
      "(22183, 2)\n",
      "['#CHROM\\tPOS\\tREF\\tALT', 'y']\n",
      "(62970, 2)\n",
      "['#CHROM\\tPOS\\tREF\\tALT', 'y']\n",
      "(44695, 2)\n",
      "['#CHROM\\tPOS\\tREF\\tALT', 'y']\n",
      "(73705, 2)\n",
      "['#CHROM\\tPOS\\tREF\\tALT', 'y']\n",
      "(5377, 2)\n",
      "['#CHROM\\tPOS\\tREF\\tALT', 'y']\n",
      "(483, 2)\n",
      "['#CHROM\\tPOS\\tREF\\tALT', 'y']\n",
      "(25905, 2)\n",
      "['#CHROM\\tPOS\\tREF\\tALT', 'y']\n",
      "(71257, 2)\n",
      "['#CHROM\\tPOS\\tREF\\tALT', 'y']\n",
      "(306575, 2)\n"
     ]
    }
   ],
   "source": [
    "data = pd.DataFrame(columns = ['#CHROM\\tPOS\\tREF\\tALT', 'y'])\n",
    "directory = '/home/ztom/pipeline/artifacts/all'\n",
    "for filename in os.listdir(directory):\n",
    "    #do not parse tabs so that data is read in as one column\n",
    "    df = pd.read_csv(os.path.join(directory,filename), header=0)\n",
    "    df = df.dropna()\n",
    "    df['y'] = srx_dict[filename.split('_')[0]]\n",
    "    print(df.shape)\n",
    "    print(list(df.columns))\n",
    "    data = pd.concat([data, df], ignore_index=True)\n",
    "print(data.shape)\n"
   ]
  },
  {
   "cell_type": "markdown",
   "metadata": {},
   "source": [
    "Clean up the data for readability"
   ]
  },
  {
   "cell_type": "code",
   "execution_count": 5,
   "metadata": {
    "scrolled": true
   },
   "outputs": [
    {
     "data": {
      "text/html": [
       "<div>\n",
       "<style scoped>\n",
       "    .dataframe tbody tr th:only-of-type {\n",
       "        vertical-align: middle;\n",
       "    }\n",
       "\n",
       "    .dataframe tbody tr th {\n",
       "        vertical-align: top;\n",
       "    }\n",
       "\n",
       "    .dataframe thead th {\n",
       "        text-align: right;\n",
       "    }\n",
       "</style>\n",
       "<table border=\"1\" class=\"dataframe\">\n",
       "  <thead>\n",
       "    <tr style=\"text-align: right;\">\n",
       "      <th></th>\n",
       "      <th>CHROM_POS_REF_ALT</th>\n",
       "      <th>y</th>\n",
       "    </tr>\n",
       "  </thead>\n",
       "  <tbody>\n",
       "    <tr>\n",
       "      <th>0</th>\n",
       "      <td>chr10/169950/CACCAA/CA/</td>\n",
       "      <td>0</td>\n",
       "    </tr>\n",
       "    <tr>\n",
       "      <th>1</th>\n",
       "      <td>chr10/170475/AAATGAATGA/AAATGA/</td>\n",
       "      <td>0</td>\n",
       "    </tr>\n",
       "    <tr>\n",
       "      <th>2</th>\n",
       "      <td>chr10/217125/CT/CTTT/</td>\n",
       "      <td>0</td>\n",
       "    </tr>\n",
       "    <tr>\n",
       "      <th>3</th>\n",
       "      <td>chr10/239537/TTGT/TTGTGT/</td>\n",
       "      <td>0</td>\n",
       "    </tr>\n",
       "    <tr>\n",
       "      <th>4</th>\n",
       "      <td>chr10/277066/GTTTT/GTTTTT/</td>\n",
       "      <td>0</td>\n",
       "    </tr>\n",
       "  </tbody>\n",
       "</table>\n",
       "</div>"
      ],
      "text/plain": [
       "                 CHROM_POS_REF_ALT  y\n",
       "0          chr10/169950/CACCAA/CA/  0\n",
       "1  chr10/170475/AAATGAATGA/AAATGA/  0\n",
       "2            chr10/217125/CT/CTTT/  0\n",
       "3        chr10/239537/TTGT/TTGTGT/  0\n",
       "4       chr10/277066/GTTTT/GTTTTT/  0"
      ]
     },
     "execution_count": 5,
     "metadata": {},
     "output_type": "execute_result"
    }
   ],
   "source": [
    "data = data.replace({'\\t':'/'}, regex=True)\n",
    "data.columns = ['CHROM_POS_REF_ALT', 'y']\n",
    "data.head()"
   ]
  },
  {
   "cell_type": "markdown",
   "metadata": {},
   "source": [
    "#### Input variables\n",
    "\n",
    "1 - chromosome / position / reference allele / artifact allele (categorical)\n",
    "\n",
    "#### Predict variable (desired target):\n",
    "\n",
    "y - what type of enrichment was performed? Hybrid capture or PCR? (binary: 1 / 0)"
   ]
  },
  {
   "cell_type": "markdown",
   "metadata": {},
   "source": [
    "## Data exploration"
   ]
  },
  {
   "cell_type": "markdown",
   "metadata": {},
   "source": [
    "### Evaluate Redundancy\n",
    "\n",
    "Every sequence read run consists of a set of mostly unique artifacts. Between sequencing runs, we want to see a number of repeat artifacts to indicate a pattern that can be potentially attributed to sample manipulation / library construction protocol variables. The fraction of repeat artifacts for this dataset is seen below:"
   ]
  },
  {
   "cell_type": "code",
   "execution_count": 6,
   "metadata": {},
   "outputs": [
    {
     "name": "stdout",
     "output_type": "stream",
     "text": [
      "Number of unique artifacts:  192157\n",
      "Percentage of unique artifacts: 0.37\n"
     ]
    }
   ],
   "source": [
    "print('Number of unique artifacts: ', data['CHROM_POS_REF_ALT'].unique().size)\n",
    "print('Percentage of unique artifacts: {:.2f}'.format(1 - data['CHROM_POS_REF_ALT'].unique().size/data.shape[0]))"
   ]
  },
  {
   "cell_type": "markdown",
   "metadata": {},
   "source": [
    "### Evaluate Balance\n",
    "\n",
    "We want a relatively equal proportion of classes in the dataset. If there is an imbalance, oversmapling can be conducted."
   ]
  },
  {
   "cell_type": "code",
   "execution_count": 7,
   "metadata": {},
   "outputs": [
    {
     "data": {
      "text/plain": [
       "0    155753\n",
       "1    150822\n",
       "Name: y, dtype: int64"
      ]
     },
     "execution_count": 7,
     "metadata": {},
     "output_type": "execute_result"
    }
   ],
   "source": [
    "data['y'].value_counts()"
   ]
  },
  {
   "cell_type": "code",
   "execution_count": 8,
   "metadata": {},
   "outputs": [
    {
     "data": {
      "image/png": "[encoded data removed]",
      "text/plain": [
       "<Figure size 432x288 with 1 Axes>"
      ]
     },
     "metadata": {},
     "output_type": "display_data"
    }
   ],
   "source": [
    "sns.countplot(x='y',data=data, palette='hls')\n",
    "plt.xticks(np.arange(2), ['HC','PCR'])\n",
    "plt.show()"
   ]
  },
  {
   "cell_type": "code",
   "execution_count": 9,
   "metadata": {},
   "outputs": [
    {
     "name": "stdout",
     "output_type": "stream",
     "text": [
      "percentage of HC is 50.80\n",
      "percentage of PCR is 49.20\n"
     ]
    }
   ],
   "source": [
    "count_HC = len(data[data['y']==0])\n",
    "count_PCR = len(data[data['y']==1])\n",
    "pct_of_HC = count_HC/(count_HC+count_PCR)\n",
    "print(\"percentage of HC is {:.2f}\".format(pct_of_HC*100))\n",
    "pct_of_PCR = count_PCR/(count_HC+count_PCR)\n",
    "print(\"percentage of PCR is {:.2f}\".format(pct_of_PCR*100))"
   ]
  },
  {
   "cell_type": "markdown",
   "metadata": {},
   "source": [
    "The classes are well balanced between hybrid capture and polymerase chain reaction"
   ]
  },
  {
   "cell_type": "markdown",
   "metadata": {},
   "source": [
    "### Data Visualizations\n",
    "\n",
    "Let's take a look at the n most frequent artifacts found in the dataset to see if any are a good predictor of the outcome variable. Operating under the assumption that the more frequently an artifacts appears, the more likely it has a specific cause. "
   ]
  },
  {
   "cell_type": "code",
   "execution_count": 10,
   "metadata": {},
   "outputs": [
    {
     "name": "stdout",
     "output_type": "stream",
     "text": [
      "chr12/19473376/AATTTATTTATTTATTTATTTATTTATTTATTTATTTATTTATTTAT/AATTTATTTATTTATTTATTTATTTATTTATTTATTTATTTAT/             24\n",
      "chr14/91881120/TACACACACACACACACACACACACACACACACAC/TACACACACACACACACACACACACAC/                                         20\n",
      "chr1/66776560/GGTGTGTGTGTGTGTGTGT/GGTGTGTGTGTGTGTGTGTGT/                                                                16\n",
      "chr22/26408789/ACCTTCCTTCCTTCCTTCCTTC/ACCTTCCTTCCTTCCTTC/                                                               15\n",
      "chr7/96990932/TAGAGAGAGAGAGAGAGAGAGA/TAGAGAGAGAGAGAGAGA/                                                                12\n",
      "chr6/38412860/AAACAACAACAACAACAACAACAACAA/AAACAACAACAACAACAACAACAA/                                                     12\n",
      "chr3/151827533/GTTTT/GTTT/                                                                                              12\n",
      "chr1/57198649/TCACACACACACACACACACACACACACACACACACACACAC/TCACACACACACACACACACACACACACACACACACACACACACACAC/              12\n",
      "chr5/65704035/CAAAAAAAAAAAAAAAAA/CAAAAAAAAAAAAAAA/                                                                      12\n",
      "chr19/612393/GGTGTGTGTGTGTGTGTGTGTGTGTGTGTGTGTGTG/GGTGTGTGTGTGTGTGTGTGTGTGTGTG/                                         12\n",
      "chr13/23787405/GGAGAGAGAGAGAGAGAGAGAGA/GGAGAGAGAGAGAGAGAGAGA/                                                           12\n",
      "chr11/96122497/GGTGTGTGTGTGTGTGTGTGTGTGTGTGTGTGTG/GGTGTGTGTGTGTGTGTGTGTGTGTG/                                           12\n",
      "chr4/141177476/TTCTCTCTCTCTCTCTCTCTCTC/TTCTCTCTCTCTCTCTCTCTC/                                                           12\n",
      "chr3/129214494/TTGTGTGTGTGTGTGTGTGTGTGT/TTGTGTGTGTGTGTGTGTGTGT/                                                         12\n",
      "chr3/170401048/GTGAACTC/G/                                                                                              12\n",
      "chr19/17420015/GCCCCCCCCCCCC/GCTCCCCCCCCCCCCCC/                                                                         12\n",
      "chr4/91037232/TCACACACACACACACACACACACACATACATACACACACACACACACACA/TCACACACACACACACACACACACATACATACACACACACACACACACA/    12\n",
      "chr1/231373669/CGTGTGTGCGTGTGTGTGTGTGTG/CGTGTGTG/                                                                       12\n",
      "chr8/18071244/GAAATAAAATAAAA/GAAATAAAATAAAATAAAA/                                                                       12\n",
      "chr5/59237782/GGTGTGTGTGTGTGTGTGTGTGTGTGTGTGTGTGTGTGTG/GGTGTGTGTGTGTGTGTGTGTGTGTGTGTGTG/                                10\n",
      "Name: CHROM_POS_REF_ALT, dtype: int64\n"
     ]
    }
   ],
   "source": [
    "n = 20\n",
    "print(data['CHROM_POS_REF_ALT'].value_counts()[:n])\n",
    "most_frequent_artifact = data['CHROM_POS_REF_ALT'].value_counts()[:n].index.tolist()\n",
    "mfas = data[data['CHROM_POS_REF_ALT'].isin(most_frequent_artifact)].CHROM_POS_REF_ALT\n",
    "mfcs = data[data['CHROM_POS_REF_ALT'].isin(most_frequent_artifact)].y\n",
    "#shorten the artifact names for plot readability\n",
    "mfas = mfas.apply(lambda x: x[:14])"
   ]
  },
  {
   "cell_type": "code",
   "execution_count": 11,
   "metadata": {
    "scrolled": true
   },
   "outputs": [
    {
     "data": {
      "text/plain": [
       "Text(0, 0.5, 'Frequency')"
      ]
     },
     "execution_count": 11,
     "metadata": {},
     "output_type": "execute_result"
    },
    {
     "data": {
      "image/png": "[encoded data removed]",
      "text/plain": [
       "<Figure size 432x288 with 1 Axes>"
      ]
     },
     "metadata": {},
     "output_type": "display_data"
    }
   ],
   "source": [
    "plt.hist(mfas, 20)\n",
    "plt.xticks(rotation='vertical')\n",
    "plt.title('Histogram of Artifacts')\n",
    "plt.xlabel('Artifact')\n",
    "plt.ylabel('Frequency')"
   ]
  },
  {
   "cell_type": "code",
   "execution_count": 12,
   "metadata": {},
   "outputs": [
    {
     "data": {
      "text/plain": [
       "<matplotlib.legend.Legend at 0x2b49bb9cc1d0>"
      ]
     },
     "execution_count": 12,
     "metadata": {},
     "output_type": "execute_result"
    },
    {
     "data": {
      "image/png": "[encoded data removed]",
      "text/plain": [
       "<Figure size 432x288 with 1 Axes>"
      ]
     },
     "metadata": {},
     "output_type": "display_data"
    }
   ],
   "source": [
    "table=pd.crosstab(mfas,mfcs)\n",
    "table.div(table.sum(1).astype(float), axis=0).plot(kind='bar', stacked=True)\n",
    "plt.title('Stacked Bar Chart of Variants vs. Enrichment Method')\n",
    "plt.xlabel('Sequencing Artifact')\n",
    "plt.ylabel('Enrichment Protocol')\n",
    "plt.legend(['HC', 'PCR'], loc='lower left')\n",
    "#plt.figure(figsize=(20,10))"
   ]
  },
  {
   "cell_type": "markdown",
   "metadata": {},
   "source": [
    "Based on the results, these artifacts appear to be a good predictor of enrichment protocol step, with hybrid capture producing the majority of frequently occuring artifacts, except for in the case of artifacts chromosome 11 at position 96122497, chrosome 4 at position 141177476, and chromosome 6 at position 38412860."
   ]
  },
  {
   "cell_type": "markdown",
   "metadata": {},
   "source": [
    "## Target Encoding\n",
    "\n",
    "Because there are 192,157 unique categorical values for the artifact feature, one-hot encoding is not feasible. Attepts to produce dummy variables with one-hot encoding results in kernel crash likely due to running out of memory. Thus, target encoding is used."
   ]
  },
  {
   "cell_type": "code",
   "execution_count": 13,
   "metadata": {},
   "outputs": [
    {
     "name": "stderr",
     "output_type": "stream",
     "text": [
      "/home/ztom/.local/lib/python3.6/site-packages/category_encoders/utils.py:21: FutureWarning: is_categorical is deprecated and will be removed in a future version.  Use is_categorical_dtype instead\n",
      "  elif pd.api.types.is_categorical(cols):\n"
     ]
    },
    {
     "name": "stdout",
     "output_type": "stream",
     "text": [
      "                 CHROM_POS_REF_ALT  y  CHROM_POS_REF_ALT Encoded\n",
      "0          chr10/169950/CACCAA/CA/  0                   0.491958\n",
      "1  chr10/170475/AAATGAATGA/AAATGA/  0                   0.132308\n",
      "2            chr10/217125/CT/CTTT/  0                   0.261475\n",
      "3        chr10/239537/TTGT/TTGTGT/  0                   0.058643\n",
      "4       chr10/277066/GTTTT/GTTTTT/  0                   0.023332\n"
     ]
    },
    {
     "data": {
      "text/plain": [
       "array(['CHROM_POS_REF_ALT Encoded', 'y'], dtype=object)"
      ]
     },
     "execution_count": 13,
     "metadata": {},
     "output_type": "execute_result"
    }
   ],
   "source": [
    "encoder = TargetEncoder()\n",
    "data['CHROM_POS_REF_ALT Encoded'] = encoder.fit_transform(data['CHROM_POS_REF_ALT'], data['y'])\n",
    "    \n",
    "print(data.head())\n",
    "data_final=data[['CHROM_POS_REF_ALT Encoded','y']]\n",
    "data_final.columns.values"
   ]
  },
  {
   "cell_type": "markdown",
   "metadata": {},
   "source": [
    "## Logistic Regression Model Fitting"
   ]
  },
  {
   "cell_type": "code",
   "execution_count": 14,
   "metadata": {},
   "outputs": [
    {
     "data": {
      "text/plain": [
       "LogisticRegression()"
      ]
     },
     "execution_count": 14,
     "metadata": {},
     "output_type": "execute_result"
    }
   ],
   "source": [
    "from sklearn.linear_model import LogisticRegression\n",
    "from sklearn import metrics\n",
    "\n",
    "X = data_final.loc[:, 'CHROM_POS_REF_ALT Encoded']\n",
    "y = data_final.loc[:, 'y']\n",
    "\n",
    "X_train, X_test, y_train, y_test = train_test_split(X, y, test_size=0.3, random_state=0)\n",
    "#reshape data because we have one feature\n",
    "X_train_reshaped = X_train.values.reshape(-1, 1)\n",
    "X_test_reshaped = X_test.values.reshape(-1, 1)\n",
    "\n",
    "logreg = LogisticRegression()\n",
    "logreg.fit(X_train_reshaped, y_train)"
   ]
  },
  {
   "cell_type": "code",
   "execution_count": 15,
   "metadata": {
    "scrolled": false
   },
   "outputs": [
    {
     "name": "stdout",
     "output_type": "stream",
     "text": [
      "Accuracy of logistic regression classifier on test set: 0.71\n"
     ]
    }
   ],
   "source": [
    "y_pred = logreg.predict(X_test_reshaped)\n",
    "print('Accuracy of logistic regression classifier on test set: {:.2f}'.format(logreg.score(X_test_reshaped, y_test)))"
   ]
  },
  {
   "cell_type": "markdown",
   "metadata": {},
   "source": [
    "## Results Analysis"
   ]
  },
  {
   "cell_type": "markdown",
   "metadata": {},
   "source": [
    "### Confusion Matrix"
   ]
  },
  {
   "cell_type": "code",
   "execution_count": 16,
   "metadata": {
    "scrolled": true
   },
   "outputs": [
    {
     "name": "stdout",
     "output_type": "stream",
     "text": [
      "[[23647 23281]\n",
      " [ 3734 41311]]\n"
     ]
    }
   ],
   "source": [
    "from sklearn.metrics import confusion_matrix\n",
    "confusion_matrix = confusion_matrix(y_test, y_pred)\n",
    "print(confusion_matrix)"
   ]
  },
  {
   "cell_type": "markdown",
   "metadata": {},
   "source": [
    "These results tell us that we have 23647+41311 correct predictions and 3734+23281 incorrect predictions."
   ]
  },
  {
   "cell_type": "code",
   "execution_count": 17,
   "metadata": {},
   "outputs": [
    {
     "name": "stdout",
     "output_type": "stream",
     "text": [
      "              precision    recall  f1-score   support\n",
      "\n",
      "           0       0.86      0.50      0.64     46928\n",
      "           1       0.64      0.92      0.75     45045\n",
      "\n",
      "    accuracy                           0.71     91973\n",
      "   macro avg       0.75      0.71      0.70     91973\n",
      "weighted avg       0.75      0.71      0.69     91973\n",
      "\n"
     ]
    }
   ],
   "source": [
    "from sklearn.metrics import classification_report\n",
    "print(classification_report(y_test, y_pred))"
   ]
  },
  {
   "cell_type": "markdown",
   "metadata": {},
   "source": [
    "#### Interpretation:\n",
    "\n",
    "Of the entire test set, 71% of the predicted enrichment steps were the enrichment step associated with the corresponding artifact."
   ]
  },
  {
   "cell_type": "markdown",
   "metadata": {},
   "source": [
    "### ROC Curve"
   ]
  },
  {
   "cell_type": "code",
   "execution_count": 20,
   "metadata": {},
   "outputs": [
    {
     "data": {
      "image/png": "[encoded data removed]",
      "text/plain": [
       "<Figure size 432x288 with 1 Axes>"
      ]
     },
     "metadata": {},
     "output_type": "display_data"
    }
   ],
   "source": [
    "from sklearn.metrics import roc_auc_score\n",
    "from sklearn.metrics import roc_curve\n",
    "logit_roc_auc = roc_auc_score(y_test, logreg.predict(X_test_reshaped))\n",
    "fpr, tpr, thresholds = roc_curve(y_test, logreg.predict_proba(X_test_reshaped)[:,1])\n",
    "plt.figure()\n",
    "plt.plot(fpr, tpr, label='Logistic Regression (area = %0.2f)' % logit_roc_auc)\n",
    "plt.plot([0, 1], [0, 1],'r--')\n",
    "plt.xlim([0.0, 1.0])\n",
    "plt.ylim([0.0, 1.05])\n",
    "plt.xlabel('False Positive Rate')\n",
    "plt.ylabel('True Positive Rate')\n",
    "plt.title('Receiver Operating Characteristic')\n",
    "plt.legend(loc=\"lower right\")\n",
    "plt.savefig('Log_ROC')\n",
    "plt.show()"
   ]
  },
  {
   "cell_type": "markdown",
   "metadata": {},
   "source": [
    "The Area Under Curve (AUC) is within the 0.7 - 0.8 range, so not outstanding but acceptable."
   ]
  }
 ],
 "metadata": {
  "kernelspec": {
   "display_name": "Python 3",
   "language": "python",
   "name": "python3"
  },
  "language_info": {
   "codemirror_mode": {
    "name": "ipython",
    "version": 3
   },
   "file_extension": ".py",
   "mimetype": "text/x-python",
   "name": "python",
   "nbconvert_exporter": "python",
   "pygments_lexer": "ipython3",
   "version": "3.6.9"
  }
 },
 "nbformat": 4,
 "nbformat_minor": 2
}
