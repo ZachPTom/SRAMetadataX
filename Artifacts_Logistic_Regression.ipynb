{
 "cells": [
  {
   "cell_type": "code",
   "execution_count": 1,
   "metadata": {},
   "outputs": [],
   "source": [
    "import os\n",
    "import pandas as pd\n",
    "import numpy as np\n",
    "from sklearn import preprocessing\n",
    "from category_encoders import TargetEncoder\n",
    "import matplotlib.pyplot as plt \n",
    "plt.rc(\"font\", size=14)\n",
    "from sklearn.linear_model import LogisticRegression\n",
    "from sklearn.model_selection import train_test_split\n",
    "import seaborn as sns\n",
    "sns.set(style=\"white\")\n",
    "sns.set(style=\"whitegrid\", color_codes=True)"
   ]
  },
  {
   "cell_type": "markdown",
   "metadata": {},
   "source": [
    "## Data Pre-processing\n",
    "\n",
    "The data consists of the artifactual variant calls that differ from the GIAB high confidence calls produced by the NGS pipeline.\n",
    "\n",
    "Below define a dictionary of your XRR accessions and their associated class. Here, 0 = hybrid capture, and 1 = PCR"
   ]
  },
  {
   "cell_type": "code",
   "execution_count": 10,
   "metadata": {},
   "outputs": [],
   "source": [
    "srx_dict = {'ERR1831349': 0, 'ERR1905889': 0, 'ERR1905890': 0, 'ERR1831350': 0, \n",
    "            'ERR032972': 1, 'SRR1620964': 1, 'ERR1679737': 1, 'ERR032971': 1}"
   ]
  },
  {
   "cell_type": "markdown",
   "metadata": {},
   "source": [
    "Import each tab_delimited artifacts file as a dataframe and add the associated class as a column. Append all dataframes together."
   ]
  },
  {
   "cell_type": "code",
   "execution_count": 11,
   "metadata": {
    "scrolled": false
   },
   "outputs": [
    {
     "name": "stdout",
     "output_type": "stream",
     "text": [
      "22183 21610\n",
      "(21610, 2)\n",
      "['#CHROM\\tPOS\\tREF\\tALT', 'y']\n",
      "62970 60994\n",
      "(60994, 2)\n",
      "['#CHROM\\tPOS\\tREF\\tALT', 'y']\n",
      "44695 43233\n",
      "(43233, 2)\n",
      "['#CHROM\\tPOS\\tREF\\tALT', 'y']\n",
      "73705 72198\n",
      "(72198, 2)\n",
      "['#CHROM\\tPOS\\tREF\\tALT', 'y']\n",
      "5377 5345\n",
      "(5345, 2)\n",
      "['#CHROM\\tPOS\\tREF\\tALT', 'y']\n",
      "483 481\n",
      "(481, 2)\n",
      "['#CHROM\\tPOS\\tREF\\tALT', 'y']\n",
      "25905 25205\n",
      "(25205, 2)\n",
      "['#CHROM\\tPOS\\tREF\\tALT', 'y']\n",
      "71257 69870\n",
      "(69870, 2)\n",
      "['#CHROM\\tPOS\\tREF\\tALT', 'y']\n",
      "(298936, 2)\n"
     ]
    }
   ],
   "source": [
    "data = pd.DataFrame(columns = ['#CHROM\\tPOS\\tREF\\tALT', 'y'])\n",
    "directory = '/home/ztom/pipeline/data_archive/12_01_2020/artifacts/all'\n",
    "for filename in os.listdir(directory):\n",
    "    #do not parse tabs so that data is read in as one column\n",
    "    df = pd.read_csv(os.path.join(directory,filename), header=0)\n",
    "    df = df.dropna()\n",
    "    #remove duplicate rows\n",
    "    length1 = len(df)\n",
    "    df = df.drop_duplicates()\n",
    "    length2 = len(df)\n",
    "    print(length1, length2)\n",
    "    #add prediction class class column\n",
    "    df['y'] = srx_dict[filename.split('_')[0]]\n",
    "    print(df.shape)\n",
    "    print(list(df.columns))\n",
    "    data = pd.concat([data, df], ignore_index=True)\n",
    "print(data.shape)\n"
   ]
  },
  {
   "cell_type": "markdown",
   "metadata": {},
   "source": [
    "Clean up the data for readability"
   ]
  },
  {
   "cell_type": "code",
   "execution_count": 12,
   "metadata": {
    "scrolled": true
   },
   "outputs": [
    {
     "data": {
      "text/html": [
       "<div>\n",
       "<style scoped>\n",
       "    .dataframe tbody tr th:only-of-type {\n",
       "        vertical-align: middle;\n",
       "    }\n",
       "\n",
       "    .dataframe tbody tr th {\n",
       "        vertical-align: top;\n",
       "    }\n",
       "\n",
       "    .dataframe thead th {\n",
       "        text-align: right;\n",
       "    }\n",
       "</style>\n",
       "<table border=\"1\" class=\"dataframe\">\n",
       "  <thead>\n",
       "    <tr style=\"text-align: right;\">\n",
       "      <th></th>\n",
       "      <th>CHROM_POS_REF_ALT</th>\n",
       "      <th>y</th>\n",
       "    </tr>\n",
       "  </thead>\n",
       "  <tbody>\n",
       "    <tr>\n",
       "      <th>0</th>\n",
       "      <td>chr10/169950/CACCAA/CA/</td>\n",
       "      <td>0</td>\n",
       "    </tr>\n",
       "    <tr>\n",
       "      <th>1</th>\n",
       "      <td>chr10/170475/AAATGAATGA/AAATGA/</td>\n",
       "      <td>0</td>\n",
       "    </tr>\n",
       "    <tr>\n",
       "      <th>2</th>\n",
       "      <td>chr10/217125/CT/CTTT/</td>\n",
       "      <td>0</td>\n",
       "    </tr>\n",
       "    <tr>\n",
       "      <th>3</th>\n",
       "      <td>chr10/239537/TTGT/TTGTGT/</td>\n",
       "      <td>0</td>\n",
       "    </tr>\n",
       "    <tr>\n",
       "      <th>4</th>\n",
       "      <td>chr10/277066/GTTTT/GTTTTT/</td>\n",
       "      <td>0</td>\n",
       "    </tr>\n",
       "  </tbody>\n",
       "</table>\n",
       "</div>"
      ],
      "text/plain": [
       "                 CHROM_POS_REF_ALT  y\n",
       "0          chr10/169950/CACCAA/CA/  0\n",
       "1  chr10/170475/AAATGAATGA/AAATGA/  0\n",
       "2            chr10/217125/CT/CTTT/  0\n",
       "3        chr10/239537/TTGT/TTGTGT/  0\n",
       "4       chr10/277066/GTTTT/GTTTTT/  0"
      ]
     },
     "execution_count": 12,
     "metadata": {},
     "output_type": "execute_result"
    }
   ],
   "source": [
    "data = data.replace({'\\t':'/'}, regex=True)\n",
    "data.columns = ['CHROM_POS_REF_ALT', 'y']\n",
    "data.head()"
   ]
  },
  {
   "cell_type": "markdown",
   "metadata": {},
   "source": [
    "#### Input variables\n",
    "\n",
    "1 - chromosome / position / reference allele / artifact allele (categorical)\n",
    "\n",
    "#### Predict variable (desired target):\n",
    "\n",
    "y - what type of enrichment was performed? Hybrid capture or PCR? (binary: 1 / 0)"
   ]
  },
  {
   "cell_type": "markdown",
   "metadata": {},
   "source": [
    "## Data exploration"
   ]
  },
  {
   "cell_type": "markdown",
   "metadata": {},
   "source": [
    "### Evaluate Redundancy\n",
    "\n",
    "Every sequence read run consists of a set of mostly unique artifacts. Between sequencing runs, we want to see some repeat artifacts to indicate a pattern that can be potentially attributed to sample manipulation / library construction protocol variables. The fraction of repeat artifacts for this dataset is seen below:"
   ]
  },
  {
   "cell_type": "code",
   "execution_count": 13,
   "metadata": {},
   "outputs": [
    {
     "name": "stdout",
     "output_type": "stream",
     "text": [
      "Number of unique artifacts:  192157\n",
      "Percentage of repeat artifacts: 0.36\n"
     ]
    }
   ],
   "source": [
    "print('Number of unique artifacts: ', data['CHROM_POS_REF_ALT'].unique().size)\n",
    "print('Percentage of repeat artifacts: {:.2f}'.format(1 - data['CHROM_POS_REF_ALT'].unique().size/data.shape[0]))"
   ]
  },
  {
   "cell_type": "markdown",
   "metadata": {},
   "source": [
    "### Evaluate Balance\n",
    "\n",
    "We want a relatively equal proportion of classes in the dataset. If there is an imbalance, oversmapling can be conducted."
   ]
  },
  {
   "cell_type": "code",
   "execution_count": 14,
   "metadata": {},
   "outputs": [
    {
     "data": {
      "text/plain": [
       "0    151042\n",
       "1    147894\n",
       "Name: y, dtype: int64"
      ]
     },
     "execution_count": 14,
     "metadata": {},
     "output_type": "execute_result"
    }
   ],
   "source": [
    "data['y'].value_counts()"
   ]
  },
  {
   "cell_type": "code",
   "execution_count": 15,
   "metadata": {},
   "outputs": [
    {
     "data": {
      "image/png": "[encoded data removed]",
      "text/plain": [
       "<Figure size 432x288 with 1 Axes>"
      ]
     },
     "metadata": {},
     "output_type": "display_data"
    }
   ],
   "source": [
    "sns.countplot(x='y',data=data, palette='hls')\n",
    "plt.xticks(np.arange(2), ['HC','PCR'])\n",
    "plt.show()"
   ]
  },
  {
   "cell_type": "code",
   "execution_count": 16,
   "metadata": {},
   "outputs": [
    {
     "name": "stdout",
     "output_type": "stream",
     "text": [
      "percentage of HC is 50.53\n",
      "percentage of PCR is 49.47\n"
     ]
    }
   ],
   "source": [
    "count_HC = len(data[data['y']==0])\n",
    "count_PCR = len(data[data['y']==1])\n",
    "pct_of_HC = count_HC/(count_HC+count_PCR)\n",
    "print(\"percentage of HC is {:.2f}\".format(pct_of_HC*100))\n",
    "pct_of_PCR = count_PCR/(count_HC+count_PCR)\n",
    "print(\"percentage of PCR is {:.2f}\".format(pct_of_PCR*100))"
   ]
  },
  {
   "cell_type": "markdown",
   "metadata": {},
   "source": [
    "The classes are well balanced between hybrid capture and polymerase chain reaction."
   ]
  },
  {
   "cell_type": "markdown",
   "metadata": {},
   "source": [
    "### Data Visualizations\n",
    "\n",
    "Let's take a look at the n most frequent artifacts found in the dataset to see if any are a good predictor of the outcome variable. Operating under the assumption that the more frequently an artifacts appears, the more likely it has a specific cause. The maximum number of times an artifact will appear is the number of sequencing runs used."
   ]
  },
  {
   "cell_type": "code",
   "execution_count": 17,
   "metadata": {},
   "outputs": [
    {
     "name": "stdout",
     "output_type": "stream",
     "text": [
      "chr6/158078065/GTT/GTTT/                                                7\n",
      "chr5/171899699/AT/ATT/                                                  7\n",
      "chr1/80496448/AAA/AAACAA/                                               7\n",
      "chr10/93057050/GAAA/GAAAA/                                              7\n",
      "chr18/63498856/AGTGTGT/AGTGTGTGT/                                       7\n",
      "chr6/89200966/CTGT/CTGTGT/                                              6\n",
      "chr6/24479797/CATATATATATAT/CATATATATAT/                                6\n",
      "chr6/126008837/ACCCC/ACCCCC/                                            6\n",
      "chr15/58802105/CAAA/CAAAA/                                              6\n",
      "chr1/7787302/CTTTTTT/CTTTTTTT/                                          6\n",
      "chr20/35501830/CCTCTCT/CCTCT/                                           6\n",
      "chr11/114971423/ATCTCTCTCTCTCTCTCTCTCTC/ATCTCTCTCTCTCTCTCTCTCTCTCTC/    6\n",
      "chr10/123041039/ATTTTTT/ATTTTT/                                         6\n",
      "chr1/210418398/TGGGGGG/TGGGGG/                                          6\n",
      "chr17/9587016/TC/TCC/                                                   6\n",
      "chr7/101131806/AAACAACAACAACAACAACAACAA/AAACAACAACAACAACAACAACAACAA/    6\n",
      "chr2/62502612/GAAAAAA/GAAAAAAA/                                         6\n",
      "chrX/30700759/AAAAT/AAAATAAAT/                                          6\n",
      "chr14/100353439/TGGG/TGGGG/                                             6\n",
      "chr11/18231849/CTT/CTTT/                                                6\n",
      "Name: CHROM_POS_REF_ALT, dtype: int64\n"
     ]
    }
   ],
   "source": [
    "n = 20\n",
    "print(data['CHROM_POS_REF_ALT'].value_counts()[:n])\n",
    "most_frequent_artifact = data['CHROM_POS_REF_ALT'].value_counts()[:n].index.tolist()\n",
    "mfas = data[data['CHROM_POS_REF_ALT'].isin(most_frequent_artifact)].CHROM_POS_REF_ALT\n",
    "mfcs = data[data['CHROM_POS_REF_ALT'].isin(most_frequent_artifact)].y\n",
    "#shorten the artifact names for plot readability\n",
    "mfas = mfas.apply(lambda x: x[:14])"
   ]
  },
  {
   "cell_type": "code",
   "execution_count": 18,
   "metadata": {
    "scrolled": true
   },
   "outputs": [
    {
     "data": {
      "text/plain": [
       "Text(0, 0.5, 'Frequency')"
      ]
     },
     "execution_count": 18,
     "metadata": {},
     "output_type": "execute_result"
    },
    {
     "data": {
      "image/png": "[encoded data removed]",
      "text/plain": [
       "<Figure size 432x288 with 1 Axes>"
      ]
     },
     "metadata": {},
     "output_type": "display_data"
    }
   ],
   "source": [
    "plt.hist(mfas, 20)\n",
    "plt.xticks(rotation='vertical')\n",
    "plt.title('Histogram of Artifacts')\n",
    "plt.xlabel('Artifact')\n",
    "plt.ylabel('Frequency')"
   ]
  },
  {
   "cell_type": "code",
   "execution_count": 19,
   "metadata": {},
   "outputs": [
    {
     "data": {
      "text/plain": [
       "<matplotlib.legend.Legend at 0x2b082cd9f390>"
      ]
     },
     "execution_count": 19,
     "metadata": {},
     "output_type": "execute_result"
    },
    {
     "data": {
      "image/png": "[encoded data removed]",
      "text/plain": [
       "<Figure size 432x288 with 1 Axes>"
      ]
     },
     "metadata": {},
     "output_type": "display_data"
    }
   ],
   "source": [
    "table=pd.crosstab(mfas,mfcs)\n",
    "table.div(table.sum(1).astype(float), axis=0).plot(kind='bar', stacked=True)\n",
    "plt.title('Stacked Bar Chart of Variants vs. Enrichment Method')\n",
    "plt.xlabel('Sequencing Artifact')\n",
    "plt.ylabel('Enrichment Protocol')\n",
    "plt.legend(['HC', 'PCR'], loc='lower left')\n",
    "#plt.figure(figsize=(20,10))"
   ]
  },
  {
   "cell_type": "markdown",
   "metadata": {},
   "source": [
    "Based on the results, these artifacts appear to be a good predictor of enrichment protocol step, with hybrid capture producing the majority of frequently occuring artifacts."
   ]
  },
  {
   "cell_type": "markdown",
   "metadata": {},
   "source": [
    "## Target Encoding\n",
    "\n",
    "Because there are 192,157 unique categorical values for the artifact feature, one-hot encoding is not feasible. Attepts to produce dummy variables with one-hot encoding results in kernel crash likely due to running out of memory. Thus, target encoding is used."
   ]
  },
  {
   "cell_type": "code",
   "execution_count": 20,
   "metadata": {},
   "outputs": [
    {
     "name": "stderr",
     "output_type": "stream",
     "text": [
      "/home/ztom/.local/lib/python3.6/site-packages/category_encoders/utils.py:21: FutureWarning: is_categorical is deprecated and will be removed in a future version.  Use is_categorical_dtype instead\n",
      "  elif pd.api.types.is_categorical(cols):\n"
     ]
    },
    {
     "name": "stdout",
     "output_type": "stream",
     "text": [
      "                 CHROM_POS_REF_ALT  y  CHROM_POS_REF_ALT Encoded\n",
      "0          chr10/169950/CACCAA/CA/  0                   0.494735\n",
      "1  chr10/170475/AAATGAATGA/AAATGA/  0                   0.133055\n",
      "2            chr10/217125/CT/CTTT/  0                   0.261607\n",
      "3        chr10/239537/TTGT/TTGTGT/  0                   0.058974\n",
      "4       chr10/277066/GTTTT/GTTTTT/  0                   0.023463\n"
     ]
    },
    {
     "data": {
      "text/plain": [
       "array(['CHROM_POS_REF_ALT Encoded', 'y'], dtype=object)"
      ]
     },
     "execution_count": 20,
     "metadata": {},
     "output_type": "execute_result"
    }
   ],
   "source": [
    "encoder = TargetEncoder()\n",
    "data['CHROM_POS_REF_ALT Encoded'] = encoder.fit_transform(data['CHROM_POS_REF_ALT'], data['y'])\n",
    "    \n",
    "print(data.head())\n",
    "data_final=data[['CHROM_POS_REF_ALT Encoded','y']]\n",
    "data_final.columns.values"
   ]
  },
  {
   "cell_type": "markdown",
   "metadata": {},
   "source": [
    "## Logistic Regression Model Fitting"
   ]
  },
  {
   "cell_type": "code",
   "execution_count": 21,
   "metadata": {},
   "outputs": [
    {
     "data": {
      "text/plain": [
       "LogisticRegression()"
      ]
     },
     "execution_count": 21,
     "metadata": {},
     "output_type": "execute_result"
    }
   ],
   "source": [
    "from sklearn.linear_model import LogisticRegression\n",
    "from sklearn import metrics\n",
    "\n",
    "X = data_final.loc[:, 'CHROM_POS_REF_ALT Encoded']\n",
    "y = data_final.loc[:, 'y']\n",
    "\n",
    "X_train, X_test, y_train, y_test = train_test_split(X, y, test_size=0.3, random_state=0)\n",
    "#reshape data because we have one feature\n",
    "X_train_reshaped = X_train.values.reshape(-1, 1)\n",
    "X_test_reshaped = X_test.values.reshape(-1, 1)\n",
    "\n",
    "logreg = LogisticRegression()\n",
    "logreg.fit(X_train_reshaped, y_train)"
   ]
  },
  {
   "cell_type": "code",
   "execution_count": 22,
   "metadata": {
    "scrolled": false
   },
   "outputs": [
    {
     "name": "stdout",
     "output_type": "stream",
     "text": [
      "Accuracy of logistic regression classifier on test set: 0.70\n"
     ]
    }
   ],
   "source": [
    "y_pred = logreg.predict(X_test_reshaped)\n",
    "print('Accuracy of logistic regression classifier on test set: {:.2f}'.format(logreg.score(X_test_reshaped, y_test)))"
   ]
  },
  {
   "cell_type": "markdown",
   "metadata": {},
   "source": [
    "## Results Analysis"
   ]
  },
  {
   "cell_type": "markdown",
   "metadata": {},
   "source": [
    "### Confusion Matrix"
   ]
  },
  {
   "cell_type": "code",
   "execution_count": 23,
   "metadata": {
    "scrolled": true
   },
   "outputs": [
    {
     "name": "stdout",
     "output_type": "stream",
     "text": [
      "[[21858 23475]\n",
      " [ 3741 40607]]\n"
     ]
    }
   ],
   "source": [
    "from sklearn.metrics import confusion_matrix\n",
    "confusion_matrix = confusion_matrix(y_test, y_pred)\n",
    "print(confusion_matrix)"
   ]
  },
  {
   "cell_type": "markdown",
   "metadata": {},
   "source": [
    "These results tell us that we have 21858+40607 correct predictions and 3741+23475 incorrect predictions."
   ]
  },
  {
   "cell_type": "code",
   "execution_count": 24,
   "metadata": {},
   "outputs": [
    {
     "name": "stdout",
     "output_type": "stream",
     "text": [
      "              precision    recall  f1-score   support\n",
      "\n",
      "           0       0.85      0.48      0.62     45333\n",
      "           1       0.63      0.92      0.75     44348\n",
      "\n",
      "    accuracy                           0.70     89681\n",
      "   macro avg       0.74      0.70      0.68     89681\n",
      "weighted avg       0.74      0.70      0.68     89681\n",
      "\n"
     ]
    }
   ],
   "source": [
    "from sklearn.metrics import classification_report\n",
    "print(classification_report(y_test, y_pred))"
   ]
  },
  {
   "cell_type": "markdown",
   "metadata": {},
   "source": [
    "#### Interpretation:\n",
    "\n",
    "Of the entire test set, 70% of the predicted enrichment steps were the enrichment step associated with the corresponding artifact."
   ]
  },
  {
   "cell_type": "markdown",
   "metadata": {},
   "source": [
    "### ROC Curve"
   ]
  },
  {
   "cell_type": "code",
   "execution_count": 25,
   "metadata": {},
   "outputs": [
    {
     "data": {
      "image/png": "[encoded data removed]",
      "text/plain": [
       "<Figure size 432x288 with 1 Axes>"
      ]
     },
     "metadata": {},
     "output_type": "display_data"
    }
   ],
   "source": [
    "from sklearn.metrics import roc_auc_score\n",
    "from sklearn.metrics import roc_curve\n",
    "logit_roc_auc = roc_auc_score(y_test, logreg.predict(X_test_reshaped))\n",
    "fpr, tpr, thresholds = roc_curve(y_test, logreg.predict_proba(X_test_reshaped)[:,1])\n",
    "plt.figure()\n",
    "plt.plot(fpr, tpr, label='Logistic Regression (area = %0.2f)' % logit_roc_auc)\n",
    "plt.plot([0, 1], [0, 1],'r--')\n",
    "plt.xlim([0.0, 1.0])\n",
    "plt.ylim([0.0, 1.05])\n",
    "plt.xlabel('False Positive Rate')\n",
    "plt.ylabel('True Positive Rate')\n",
    "plt.title('Receiver Operating Characteristic')\n",
    "plt.legend(loc=\"lower right\")\n",
    "plt.savefig('Log_ROC')\n",
    "plt.show()"
   ]
  },
  {
   "cell_type": "markdown",
   "metadata": {},
   "source": [
    "The Area Under Curve (AUC) is within the 0.7 - 0.8 range, so not outstanding but acceptable."
   ]
  }
 ],
 "metadata": {
  "kernelspec": {
   "display_name": "Python 3",
   "language": "python",
   "name": "python3"
  },
  "language_info": {
   "codemirror_mode": {
    "name": "ipython",
    "version": 3
   },
   "file_extension": ".py",
   "mimetype": "text/x-python",
   "name": "python",
   "nbconvert_exporter": "python",
   "pygments_lexer": "ipython3",
   "version": "3.6.9"
  }
 },
 "nbformat": 4,
 "nbformat_minor": 2
}
